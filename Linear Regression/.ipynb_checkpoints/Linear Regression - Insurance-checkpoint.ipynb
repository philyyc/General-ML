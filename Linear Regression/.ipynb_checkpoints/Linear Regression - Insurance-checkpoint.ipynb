{
 "cells": [
  {
   "cell_type": "markdown",
   "id": "c737427c",
   "metadata": {},
   "source": [
    "# Linear Regression - Insurance\n",
    "\n",
    "This notebook aims to analyse the dataset and create a predictive linear regression model to predict the medical cost billed by the health insurance based on various independent variables.\n",
    "\n",
    "The columns in the dataset include:\n",
    "- 'age': age of the primary beneficiary\n",
    "- 'sex': insurance contractor gender\n",
    "- 'bmi': body mass index\n",
    "- 'children': number of children covered by health insurance\n",
    "- 'smoker': whether the primary beneficiary smokes or not\n",
    "- 'region': the beneficiary's residential area in the US\n",
    "- 'charges': medical cost\n",
    "\n",
    "The 'charges' column will be the target feature; whereas, the other columns are the independent variables used to predict the medical cost.\n",
    "\n",
    "This dataset is obtained from the [Machine-Learning-with-R-datasets][reference-1] on Github.\n",
    "\n",
    "[reference-1]: https://github.com/stedy/Machine-Learning-with-R-datasets/blob/master/insurance.csv"
   ]
  },
  {
   "cell_type": "markdown",
   "id": "883cefb5",
   "metadata": {},
   "source": [
    "## Import packages"
   ]
  },
  {
   "cell_type": "code",
   "execution_count": 1,
   "id": "6446733d",
   "metadata": {},
   "outputs": [],
   "source": [
    "import numpy as np\n",
    "import pandas as pd\n",
    "import seaborn as sns\n",
    "import matplotlib.pyplot as plt\n",
    "\n",
    "import warnings\n",
    "warnings.filterwarnings('ignore')\n",
    "# Ignore warnings"
   ]
  },
  {
   "cell_type": "markdown",
   "id": "f7f66cba",
   "metadata": {},
   "source": [
    "## Dataset reading"
   ]
  },
  {
   "cell_type": "code",
   "execution_count": 2,
   "id": "0cc79675",
   "metadata": {},
   "outputs": [
    {
     "data": {
      "text/html": [
       "<div>\n",
       "<style scoped>\n",
       "    .dataframe tbody tr th:only-of-type {\n",
       "        vertical-align: middle;\n",
       "    }\n",
       "\n",
       "    .dataframe tbody tr th {\n",
       "        vertical-align: top;\n",
       "    }\n",
       "\n",
       "    .dataframe thead th {\n",
       "        text-align: right;\n",
       "    }\n",
       "</style>\n",
       "<table border=\"1\" class=\"dataframe\">\n",
       "  <thead>\n",
       "    <tr style=\"text-align: right;\">\n",
       "      <th></th>\n",
       "      <th>age</th>\n",
       "      <th>sex</th>\n",
       "      <th>bmi</th>\n",
       "      <th>children</th>\n",
       "      <th>smoker</th>\n",
       "      <th>region</th>\n",
       "      <th>charges</th>\n",
       "    </tr>\n",
       "  </thead>\n",
       "  <tbody>\n",
       "    <tr>\n",
       "      <th>0</th>\n",
       "      <td>19</td>\n",
       "      <td>female</td>\n",
       "      <td>27.900</td>\n",
       "      <td>0</td>\n",
       "      <td>yes</td>\n",
       "      <td>southwest</td>\n",
       "      <td>16884.92400</td>\n",
       "    </tr>\n",
       "    <tr>\n",
       "      <th>1</th>\n",
       "      <td>18</td>\n",
       "      <td>male</td>\n",
       "      <td>33.770</td>\n",
       "      <td>1</td>\n",
       "      <td>no</td>\n",
       "      <td>southeast</td>\n",
       "      <td>1725.55230</td>\n",
       "    </tr>\n",
       "    <tr>\n",
       "      <th>2</th>\n",
       "      <td>28</td>\n",
       "      <td>male</td>\n",
       "      <td>33.000</td>\n",
       "      <td>3</td>\n",
       "      <td>no</td>\n",
       "      <td>southeast</td>\n",
       "      <td>4449.46200</td>\n",
       "    </tr>\n",
       "    <tr>\n",
       "      <th>3</th>\n",
       "      <td>33</td>\n",
       "      <td>male</td>\n",
       "      <td>22.705</td>\n",
       "      <td>0</td>\n",
       "      <td>no</td>\n",
       "      <td>northwest</td>\n",
       "      <td>21984.47061</td>\n",
       "    </tr>\n",
       "    <tr>\n",
       "      <th>4</th>\n",
       "      <td>32</td>\n",
       "      <td>male</td>\n",
       "      <td>28.880</td>\n",
       "      <td>0</td>\n",
       "      <td>no</td>\n",
       "      <td>northwest</td>\n",
       "      <td>3866.85520</td>\n",
       "    </tr>\n",
       "  </tbody>\n",
       "</table>\n",
       "</div>"
      ],
      "text/plain": [
       "   age     sex     bmi  children smoker     region      charges\n",
       "0   19  female  27.900         0    yes  southwest  16884.92400\n",
       "1   18    male  33.770         1     no  southeast   1725.55230\n",
       "2   28    male  33.000         3     no  southeast   4449.46200\n",
       "3   33    male  22.705         0     no  northwest  21984.47061\n",
       "4   32    male  28.880         0     no  northwest   3866.85520"
      ]
     },
     "execution_count": 2,
     "metadata": {},
     "output_type": "execute_result"
    }
   ],
   "source": [
    "raw_data = pd.read_csv(\"Data/insurance.csv\")\n",
    "# Read the dataset into a Pandas dataframe\n",
    "\n",
    "raw_data.head()"
   ]
  },
  {
   "cell_type": "code",
   "execution_count": 3,
   "id": "105dd22c",
   "metadata": {},
   "outputs": [
    {
     "data": {
      "text/html": [
       "<div>\n",
       "<style scoped>\n",
       "    .dataframe tbody tr th:only-of-type {\n",
       "        vertical-align: middle;\n",
       "    }\n",
       "\n",
       "    .dataframe tbody tr th {\n",
       "        vertical-align: top;\n",
       "    }\n",
       "\n",
       "    .dataframe thead th {\n",
       "        text-align: right;\n",
       "    }\n",
       "</style>\n",
       "<table border=\"1\" class=\"dataframe\">\n",
       "  <thead>\n",
       "    <tr style=\"text-align: right;\">\n",
       "      <th></th>\n",
       "      <th>age</th>\n",
       "      <th>bmi</th>\n",
       "      <th>children</th>\n",
       "      <th>charges</th>\n",
       "    </tr>\n",
       "  </thead>\n",
       "  <tbody>\n",
       "    <tr>\n",
       "      <th>count</th>\n",
       "      <td>1338.000000</td>\n",
       "      <td>1338.000000</td>\n",
       "      <td>1338.000000</td>\n",
       "      <td>1338.000000</td>\n",
       "    </tr>\n",
       "    <tr>\n",
       "      <th>mean</th>\n",
       "      <td>39.207025</td>\n",
       "      <td>30.663397</td>\n",
       "      <td>1.094918</td>\n",
       "      <td>13270.422265</td>\n",
       "    </tr>\n",
       "    <tr>\n",
       "      <th>std</th>\n",
       "      <td>14.049960</td>\n",
       "      <td>6.098187</td>\n",
       "      <td>1.205493</td>\n",
       "      <td>12110.011237</td>\n",
       "    </tr>\n",
       "    <tr>\n",
       "      <th>min</th>\n",
       "      <td>18.000000</td>\n",
       "      <td>15.960000</td>\n",
       "      <td>0.000000</td>\n",
       "      <td>1121.873900</td>\n",
       "    </tr>\n",
       "    <tr>\n",
       "      <th>25%</th>\n",
       "      <td>27.000000</td>\n",
       "      <td>26.296250</td>\n",
       "      <td>0.000000</td>\n",
       "      <td>4740.287150</td>\n",
       "    </tr>\n",
       "    <tr>\n",
       "      <th>50%</th>\n",
       "      <td>39.000000</td>\n",
       "      <td>30.400000</td>\n",
       "      <td>1.000000</td>\n",
       "      <td>9382.033000</td>\n",
       "    </tr>\n",
       "    <tr>\n",
       "      <th>75%</th>\n",
       "      <td>51.000000</td>\n",
       "      <td>34.693750</td>\n",
       "      <td>2.000000</td>\n",
       "      <td>16639.912515</td>\n",
       "    </tr>\n",
       "    <tr>\n",
       "      <th>max</th>\n",
       "      <td>64.000000</td>\n",
       "      <td>53.130000</td>\n",
       "      <td>5.000000</td>\n",
       "      <td>63770.428010</td>\n",
       "    </tr>\n",
       "  </tbody>\n",
       "</table>\n",
       "</div>"
      ],
      "text/plain": [
       "               age          bmi     children       charges\n",
       "count  1338.000000  1338.000000  1338.000000   1338.000000\n",
       "mean     39.207025    30.663397     1.094918  13270.422265\n",
       "std      14.049960     6.098187     1.205493  12110.011237\n",
       "min      18.000000    15.960000     0.000000   1121.873900\n",
       "25%      27.000000    26.296250     0.000000   4740.287150\n",
       "50%      39.000000    30.400000     1.000000   9382.033000\n",
       "75%      51.000000    34.693750     2.000000  16639.912515\n",
       "max      64.000000    53.130000     5.000000  63770.428010"
      ]
     },
     "execution_count": 3,
     "metadata": {},
     "output_type": "execute_result"
    }
   ],
   "source": [
    "raw_data.describe()"
   ]
  },
  {
   "cell_type": "code",
   "execution_count": 4,
   "id": "e8e1b7e5",
   "metadata": {},
   "outputs": [
    {
     "data": {
      "text/plain": [
       "age         0\n",
       "sex         0\n",
       "bmi         0\n",
       "children    0\n",
       "smoker      0\n",
       "region      0\n",
       "charges     0\n",
       "dtype: int64"
      ]
     },
     "execution_count": 4,
     "metadata": {},
     "output_type": "execute_result"
    }
   ],
   "source": [
    "raw_data.isnull().sum()"
   ]
  },
  {
   "cell_type": "markdown",
   "id": "ec42d02d",
   "metadata": {},
   "source": [
    "## Data visualisation"
   ]
  },
  {
   "cell_type": "markdown",
   "id": "83e48bfa",
   "metadata": {},
   "source": [
    "The following plot is the distribution plot of the charges. The distribution plot can help to identify outliers and skewness. On top of the distribution plot, the kernel density estimation is plotted as a smoothed view of the distribution."
   ]
  },
  {
   "cell_type": "code",
   "execution_count": 5,
   "id": "202f5d6a",
   "metadata": {},
   "outputs": [
    {
     "data": {
      "text/plain": [
       "<seaborn.axisgrid.FacetGrid at 0x1af300d2610>"
      ]
     },
     "execution_count": 5,
     "metadata": {},
     "output_type": "execute_result"
    },
    {
     "data": {
      "image/png": "[encoded data removed]",
      "text/plain": [
       "<Figure size 360x360 with 1 Axes>"
      ]
     },
     "metadata": {
      "needs_background": "light"
     },
     "output_type": "display_data"
    }
   ],
   "source": [
    "sns.displot(raw_data[\"charges\"], kde=True, color=\"b\")"
   ]
  },
  {
   "cell_type": "markdown",
   "id": "72261213",
   "metadata": {},
   "source": [
    "From the distribution plot, it can be seen that the dataset is right-skewed. This could be due to the minimum medical cost for seeking treatments. "
   ]
  },
  {
   "cell_type": "markdown",
   "id": "9ae8c581",
   "metadata": {},
   "source": [
    "A bar plot is plotted with 'region' on the x-axis and 'charges' on the y-axis. This plot helps to compare the variation of medical costs in different regions. The hue is set to 'smoker' to further point out the relationship between smoking and medical costs."
   ]
  },
  {
   "cell_type": "code",
   "execution_count": 6,
   "id": "daa02f4e",
   "metadata": {},
   "outputs": [
    {
     "data": {
      "text/plain": [
       "<AxesSubplot:xlabel='region', ylabel='charges'>"
      ]
     },
     "execution_count": 6,
     "metadata": {},
     "output_type": "execute_result"
    },
    {
     "data": {
      "image/png": "[encoded data removed]",
      "text/plain": [
       "<Figure size 432x288 with 1 Axes>"
      ]
     },
     "metadata": {
      "needs_background": "light"
     },
     "output_type": "display_data"
    }
   ],
   "source": [
    "sns.barplot(x=\"region\", y=\"charges\", hue=\"smoker\", data=raw_data)"
   ]
  },
  {
   "cell_type": "markdown",
   "id": "3ce8df33",
   "metadata": {},
   "source": [
    "South east region has the highest charges and north east region has the lowest charges as presented in the bar plot. Despite the difference in medical costs, the medical costs for people who do not smoke are approximately the same in all regions. The medical costs for smokers are considerably more than that for non-smokers, and the difference in prices also vary more between regions."
   ]
  },
  {
   "cell_type": "markdown",
   "id": "d5437a19",
   "metadata": {},
   "source": [
    "The same bar plot is produced again; however, with the hue set to 'gender'. This plot helps to compare the medical costs billed to male and female beneficiaries, with the charges primarily separated by regions."
   ]
  },
  {
   "cell_type": "code",
   "execution_count": 7,
   "id": "9d1023fe",
   "metadata": {},
   "outputs": [
    {
     "data": {
      "text/plain": [
       "<AxesSubplot:xlabel='region', ylabel='charges'>"
      ]
     },
     "execution_count": 7,
     "metadata": {},
     "output_type": "execute_result"
    },
    {
     "data": {
      "image/png": "[encoded data removed]",
      "text/plain": [
       "<Figure size 432x288 with 1 Axes>"
      ]
     },
     "metadata": {
      "needs_background": "light"
     },
     "output_type": "display_data"
    }
   ],
   "source": [
    "sns.barplot(x=\"region\", y=\"charges\", hue=\"sex\", data=raw_data)"
   ]
  },
  {
   "cell_type": "markdown",
   "id": "ca7f39dc",
   "metadata": {},
   "source": [
    "From the bar plot plot above it can be observed that male and female beneficiaries are billed similar medical costs, except in the southern regions where male beneficiaries tend to be billed more on medical expenses."
   ]
  },
  {
   "cell_type": "markdown",
   "id": "83e2e40b",
   "metadata": {},
   "source": [
    "Alternatively, a cat plot can be used to visualise categorical data. The following cat plot has 'smoker' on the x-axis and 'charges' on the y-axis. It also has the hue set to 'sex'."
   ]
  },
  {
   "cell_type": "code",
   "execution_count": 8,
   "id": "d6bf8417",
   "metadata": {},
   "outputs": [
    {
     "data": {
      "text/plain": [
       "<seaborn.axisgrid.FacetGrid at 0x1af30dfd4f0>"
      ]
     },
     "execution_count": 8,
     "metadata": {},
     "output_type": "execute_result"
    },
    {
     "data": {
      "image/png": "[encoded data removed]",
      "text/plain": [
       "<Figure size 430.5x360 with 1 Axes>"
      ]
     },
     "metadata": {
      "needs_background": "light"
     },
     "output_type": "display_data"
    }
   ],
   "source": [
    "sns.catplot(x=\"smoker\", y=\"charges\", hue=\"sex\", data=raw_data)"
   ]
  },
  {
   "cell_type": "markdown",
   "id": "f517242c",
   "metadata": {},
   "source": [
    "From the cat plot above it can be seen that there is an insignificant difference between the medical charges of male and female beneficiaries; however, the plots for smokers lie higher on the y-axis, representing higher medical charges."
   ]
  },
  {
   "cell_type": "markdown",
   "id": "edfa02c4",
   "metadata": {},
   "source": [
    "The numeric variables 'age' and 'bmi' require visualisation and they can be visualised using scatter plots. The following scatter plot has 'age' on the x-axis and 'charges' on the y-axis, with the hue set to 'smoker'."
   ]
  },
  {
   "cell_type": "code",
   "execution_count": 9,
   "id": "447ab976",
   "metadata": {},
   "outputs": [
    {
     "data": {
      "text/plain": [
       "<AxesSubplot:xlabel='age', ylabel='charges'>"
      ]
     },
     "execution_count": 9,
     "metadata": {},
     "output_type": "execute_result"
    },
    {
     "data": {
      "image/png": "[encoded data removed]",
      "text/plain": [
       "<Figure size 432x288 with 1 Axes>"
      ]
     },
     "metadata": {
      "needs_background": "light"
     },
     "output_type": "display_data"
    }
   ],
   "source": [
    "sns.scatterplot(x=\"age\", y=\"charges\", hue=\"smoker\", data=raw_data)"
   ]
  },
  {
   "cell_type": "markdown",
   "id": "18289680",
   "metadata": {},
   "source": [
    "It can be observed from the scatter plot that there is a generally positive correlation between 'age' and 'charges' for non-smokers, although some plots lie above the general trend line. On the other hand, there is no particularly strong trend lines for plots representing smokers, and the plots for smokers lie higher on the y-axis, representing greater medical expenses."
   ]
  },
  {
   "cell_type": "markdown",
   "id": "598753ad",
   "metadata": {},
   "source": [
    "Besides scatter plots, linear model plots can also be used to visualise numeric data. Linear model plots are similar to scatter plots, but they represent the trend with regression lines. The following linear model plot has 'bmi' on the x-axis and 'charges' on the y-axis. It also has hue set to 'smoker'."
   ]
  },
  {
   "cell_type": "code",
   "execution_count": 10,
   "id": "4fa234a0",
   "metadata": {
    "scrolled": true
   },
   "outputs": [
    {
     "data": {
      "text/plain": [
       "<seaborn.axisgrid.FacetGrid at 0x1af30f16130>"
      ]
     },
     "execution_count": 10,
     "metadata": {},
     "output_type": "execute_result"
    },
    {
     "data": {
      "image/png": "[encoded data removed]",
      "text/plain": [
       "<Figure size 413.25x360 with 1 Axes>"
      ]
     },
     "metadata": {
      "needs_background": "light"
     },
     "output_type": "display_data"
    }
   ],
   "source": [
    "sns.lmplot(x=\"bmi\", y=\"charges\", hue=\"smoker\", data=raw_data)"
   ]
  },
  {
   "cell_type": "markdown",
   "id": "24a591ec",
   "metadata": {},
   "source": [
    "It is seen that there is weak or no correlation between 'bmi' and 'charges' for non-smokers from the orange linear model regression line. However, the blue regression line representing smokers shows a positive correlation between 'bmi' and 'charges' in smokers."
   ]
  },
  {
   "cell_type": "markdown",
   "id": "8dff6a50",
   "metadata": {},
   "source": [
    "The numeric variable 'children' is visualised with a linear model plot since the numbers represent more than categories but the number of dependents (children associated to the health insurance)."
   ]
  },
  {
   "cell_type": "code",
   "execution_count": 11,
   "id": "d66071e8",
   "metadata": {},
   "outputs": [
    {
     "data": {
      "text/plain": [
       "<seaborn.axisgrid.FacetGrid at 0x1af30fc83d0>"
      ]
     },
     "execution_count": 11,
     "metadata": {},
     "output_type": "execute_result"
    },
    {
     "data": {
      "image/png": "[encoded data removed]",
      "text/plain": [
       "<Figure size 413.25x360 with 1 Axes>"
      ]
     },
     "metadata": {
      "needs_background": "light"
     },
     "output_type": "display_data"
    }
   ],
   "source": [
    "sns.lmplot(x=\"children\", y=\"charges\", hue=\"smoker\", data=raw_data)"
   ]
  },
  {
   "cell_type": "markdown",
   "id": "bf6c0f10",
   "metadata": {},
   "source": [
    "From the linear model plot of discrete children counts and charges, it can be interpretted that smokers are billed more than non-smokers on medical expenses and there are weak positive correlations between charges and the number of dependent children."
   ]
  },
  {
   "cell_type": "markdown",
   "id": "7419f5e8",
   "metadata": {},
   "source": [
    "The next plot is a heatmap plotted using the Pearson correlation coefficients between all variables. The coloured plot can help identify correlations between variables which could mean multicollinearity."
   ]
  },
  {
   "cell_type": "code",
   "execution_count": 12,
   "id": "903dde87",
   "metadata": {},
   "outputs": [
    {
     "data": {
      "text/plain": [
       "<AxesSubplot:>"
      ]
     },
     "execution_count": 12,
     "metadata": {},
     "output_type": "execute_result"
    },
    {
     "data": {
      "image/png": "[encoded data removed]",
      "text/plain": [
       "<Figure size 432x288 with 2 Axes>"
      ]
     },
     "metadata": {
      "needs_background": "light"
     },
     "output_type": "display_data"
    }
   ],
   "source": [
    "sns.heatmap(raw_data.corr(), annot=True)"
   ]
  },
  {
   "cell_type": "markdown",
   "id": "2da77009",
   "metadata": {},
   "source": [
    "With the correlation coefficients displayed on the heatmap, no strong correlations can be observed between numeric variables."
   ]
  },
  {
   "cell_type": "markdown",
   "id": "d2ed857f",
   "metadata": {},
   "source": [
    "## Data processing"
   ]
  },
  {
   "cell_type": "markdown",
   "id": "df6529e7",
   "metadata": {},
   "source": [
    "There are numerous fields in this dataset which do not contain numeric data and a linear regression model can not operate with non-numeric data. Therefore, these data have to be processed and converted into numeric data before training the linear regression model."
   ]
  },
  {
   "cell_type": "markdown",
   "id": "c25490d0",
   "metadata": {},
   "source": [
    "Categorical data like 'sex', 'smoker', 'children' and 'region' can be turn into numeric data with encoding. There are several encoding methods that can be used:\n",
    "- One hot encoding\n",
    "- Label encoding\n",
    "- Dummy encoding\n",
    "- Ordinal encoding\n",
    "\n",
    "Ordinal encoding is used for categories with orders. The only ordinal data in this dataset is the number of children covered by health insurance and they do not need to be processed/encoded since they are represented in numbers by default.\n",
    "\n",
    "Categorical data can be encoded with one hot encoding but it introduces an extra column for each category in the field and it maybe lead to inaccuracies by introducing 0s. However, 'sex' will be encoded using one hot encoding for simplicity.\n",
    "\n",
    "'smoker' will be encoded using dummy encoding since dummy encoding introduces one extra column for each category except for one, which in this case one extra column will be added and a 1 represents smokers and 0 represents non-smoker.\n",
    "\n",
    "Finally, 'region' will be encoded using label encoding which does not introduce new columns but assign a numeric value to each category instead. With four categories under 'region', one hot encoding would introduce 4 columns and dummy encoding 3 columns."
   ]
  },
  {
   "cell_type": "code",
   "execution_count": 13,
   "id": "c768215c",
   "metadata": {},
   "outputs": [
    {
     "data": {
      "text/html": [
       "<div>\n",
       "<style scoped>\n",
       "    .dataframe tbody tr th:only-of-type {\n",
       "        vertical-align: middle;\n",
       "    }\n",
       "\n",
       "    .dataframe tbody tr th {\n",
       "        vertical-align: top;\n",
       "    }\n",
       "\n",
       "    .dataframe thead th {\n",
       "        text-align: right;\n",
       "    }\n",
       "</style>\n",
       "<table border=\"1\" class=\"dataframe\">\n",
       "  <thead>\n",
       "    <tr style=\"text-align: right;\">\n",
       "      <th></th>\n",
       "      <th>age</th>\n",
       "      <th>sex</th>\n",
       "      <th>bmi</th>\n",
       "      <th>children</th>\n",
       "      <th>smoker</th>\n",
       "      <th>region</th>\n",
       "      <th>charges</th>\n",
       "    </tr>\n",
       "  </thead>\n",
       "  <tbody>\n",
       "    <tr>\n",
       "      <th>0</th>\n",
       "      <td>19</td>\n",
       "      <td>female</td>\n",
       "      <td>27.900</td>\n",
       "      <td>0</td>\n",
       "      <td>1</td>\n",
       "      <td>southwest</td>\n",
       "      <td>16884.92400</td>\n",
       "    </tr>\n",
       "    <tr>\n",
       "      <th>1</th>\n",
       "      <td>18</td>\n",
       "      <td>male</td>\n",
       "      <td>33.770</td>\n",
       "      <td>1</td>\n",
       "      <td>0</td>\n",
       "      <td>southeast</td>\n",
       "      <td>1725.55230</td>\n",
       "    </tr>\n",
       "    <tr>\n",
       "      <th>2</th>\n",
       "      <td>28</td>\n",
       "      <td>male</td>\n",
       "      <td>33.000</td>\n",
       "      <td>3</td>\n",
       "      <td>0</td>\n",
       "      <td>southeast</td>\n",
       "      <td>4449.46200</td>\n",
       "    </tr>\n",
       "    <tr>\n",
       "      <th>3</th>\n",
       "      <td>33</td>\n",
       "      <td>male</td>\n",
       "      <td>22.705</td>\n",
       "      <td>0</td>\n",
       "      <td>0</td>\n",
       "      <td>northwest</td>\n",
       "      <td>21984.47061</td>\n",
       "    </tr>\n",
       "    <tr>\n",
       "      <th>4</th>\n",
       "      <td>32</td>\n",
       "      <td>male</td>\n",
       "      <td>28.880</td>\n",
       "      <td>0</td>\n",
       "      <td>0</td>\n",
       "      <td>northwest</td>\n",
       "      <td>3866.85520</td>\n",
       "    </tr>\n",
       "  </tbody>\n",
       "</table>\n",
       "</div>"
      ],
      "text/plain": [
       "   age     sex     bmi  children  smoker     region      charges\n",
       "0   19  female  27.900         0       1  southwest  16884.92400\n",
       "1   18    male  33.770         1       0  southeast   1725.55230\n",
       "2   28    male  33.000         3       0  southeast   4449.46200\n",
       "3   33    male  22.705         0       0  northwest  21984.47061\n",
       "4   32    male  28.880         0       0  northwest   3866.85520"
      ]
     },
     "execution_count": 13,
     "metadata": {},
     "output_type": "execute_result"
    }
   ],
   "source": [
    "raw_data[\"smoker\"] = pd.get_dummies(raw_data[\"smoker\"])[\"yes\"]\n",
    "# Encode the smoker column using dummy encoding\n",
    "\n",
    "raw_data.head()"
   ]
  },
  {
   "cell_type": "code",
   "execution_count": 14,
   "id": "a1fadfca",
   "metadata": {},
   "outputs": [
    {
     "data": {
      "text/html": [
       "<div>\n",
       "<style scoped>\n",
       "    .dataframe tbody tr th:only-of-type {\n",
       "        vertical-align: middle;\n",
       "    }\n",
       "\n",
       "    .dataframe tbody tr th {\n",
       "        vertical-align: top;\n",
       "    }\n",
       "\n",
       "    .dataframe thead th {\n",
       "        text-align: right;\n",
       "    }\n",
       "</style>\n",
       "<table border=\"1\" class=\"dataframe\">\n",
       "  <thead>\n",
       "    <tr style=\"text-align: right;\">\n",
       "      <th></th>\n",
       "      <th>age</th>\n",
       "      <th>sex</th>\n",
       "      <th>bmi</th>\n",
       "      <th>children</th>\n",
       "      <th>smoker</th>\n",
       "      <th>region</th>\n",
       "      <th>charges</th>\n",
       "    </tr>\n",
       "  </thead>\n",
       "  <tbody>\n",
       "    <tr>\n",
       "      <th>0</th>\n",
       "      <td>19</td>\n",
       "      <td>female</td>\n",
       "      <td>27.900</td>\n",
       "      <td>0</td>\n",
       "      <td>1</td>\n",
       "      <td>3</td>\n",
       "      <td>16884.92400</td>\n",
       "    </tr>\n",
       "    <tr>\n",
       "      <th>1</th>\n",
       "      <td>18</td>\n",
       "      <td>male</td>\n",
       "      <td>33.770</td>\n",
       "      <td>1</td>\n",
       "      <td>0</td>\n",
       "      <td>2</td>\n",
       "      <td>1725.55230</td>\n",
       "    </tr>\n",
       "    <tr>\n",
       "      <th>2</th>\n",
       "      <td>28</td>\n",
       "      <td>male</td>\n",
       "      <td>33.000</td>\n",
       "      <td>3</td>\n",
       "      <td>0</td>\n",
       "      <td>2</td>\n",
       "      <td>4449.46200</td>\n",
       "    </tr>\n",
       "    <tr>\n",
       "      <th>3</th>\n",
       "      <td>33</td>\n",
       "      <td>male</td>\n",
       "      <td>22.705</td>\n",
       "      <td>0</td>\n",
       "      <td>0</td>\n",
       "      <td>1</td>\n",
       "      <td>21984.47061</td>\n",
       "    </tr>\n",
       "    <tr>\n",
       "      <th>4</th>\n",
       "      <td>32</td>\n",
       "      <td>male</td>\n",
       "      <td>28.880</td>\n",
       "      <td>0</td>\n",
       "      <td>0</td>\n",
       "      <td>1</td>\n",
       "      <td>3866.85520</td>\n",
       "    </tr>\n",
       "  </tbody>\n",
       "</table>\n",
       "</div>"
      ],
      "text/plain": [
       "   age     sex     bmi  children  smoker  region      charges\n",
       "0   19  female  27.900         0       1       3  16884.92400\n",
       "1   18    male  33.770         1       0       2   1725.55230\n",
       "2   28    male  33.000         3       0       2   4449.46200\n",
       "3   33    male  22.705         0       0       1  21984.47061\n",
       "4   32    male  28.880         0       0       1   3866.85520"
      ]
     },
     "execution_count": 14,
     "metadata": {},
     "output_type": "execute_result"
    }
   ],
   "source": [
    "from sklearn.preprocessing import LabelEncoder\n",
    "\n",
    "label = LabelEncoder()\n",
    "\n",
    "label.fit(raw_data[\"region\"].drop_duplicates())\n",
    "\n",
    "raw_data[\"region\"] = label.transform(raw_data[\"region\"])\n",
    "# Encode the region column using label encoding\n",
    "\n",
    "raw_data.head()"
   ]
  },
  {
   "cell_type": "code",
   "execution_count": 15,
   "id": "abf55348",
   "metadata": {
    "scrolled": true
   },
   "outputs": [
    {
     "data": {
      "text/html": [
       "<div>\n",
       "<style scoped>\n",
       "    .dataframe tbody tr th:only-of-type {\n",
       "        vertical-align: middle;\n",
       "    }\n",
       "\n",
       "    .dataframe tbody tr th {\n",
       "        vertical-align: top;\n",
       "    }\n",
       "\n",
       "    .dataframe thead th {\n",
       "        text-align: right;\n",
       "    }\n",
       "</style>\n",
       "<table border=\"1\" class=\"dataframe\">\n",
       "  <thead>\n",
       "    <tr style=\"text-align: right;\">\n",
       "      <th></th>\n",
       "      <th>age</th>\n",
       "      <th>bmi</th>\n",
       "      <th>children</th>\n",
       "      <th>smoker</th>\n",
       "      <th>region</th>\n",
       "      <th>charges</th>\n",
       "      <th>female</th>\n",
       "      <th>male</th>\n",
       "    </tr>\n",
       "  </thead>\n",
       "  <tbody>\n",
       "    <tr>\n",
       "      <th>0</th>\n",
       "      <td>19</td>\n",
       "      <td>27.900</td>\n",
       "      <td>0</td>\n",
       "      <td>1</td>\n",
       "      <td>3</td>\n",
       "      <td>16884.92400</td>\n",
       "      <td>1</td>\n",
       "      <td>0</td>\n",
       "    </tr>\n",
       "    <tr>\n",
       "      <th>1</th>\n",
       "      <td>18</td>\n",
       "      <td>33.770</td>\n",
       "      <td>1</td>\n",
       "      <td>0</td>\n",
       "      <td>2</td>\n",
       "      <td>1725.55230</td>\n",
       "      <td>0</td>\n",
       "      <td>1</td>\n",
       "    </tr>\n",
       "    <tr>\n",
       "      <th>2</th>\n",
       "      <td>28</td>\n",
       "      <td>33.000</td>\n",
       "      <td>3</td>\n",
       "      <td>0</td>\n",
       "      <td>2</td>\n",
       "      <td>4449.46200</td>\n",
       "      <td>0</td>\n",
       "      <td>1</td>\n",
       "    </tr>\n",
       "    <tr>\n",
       "      <th>3</th>\n",
       "      <td>33</td>\n",
       "      <td>22.705</td>\n",
       "      <td>0</td>\n",
       "      <td>0</td>\n",
       "      <td>1</td>\n",
       "      <td>21984.47061</td>\n",
       "      <td>0</td>\n",
       "      <td>1</td>\n",
       "    </tr>\n",
       "    <tr>\n",
       "      <th>4</th>\n",
       "      <td>32</td>\n",
       "      <td>28.880</td>\n",
       "      <td>0</td>\n",
       "      <td>0</td>\n",
       "      <td>1</td>\n",
       "      <td>3866.85520</td>\n",
       "      <td>0</td>\n",
       "      <td>1</td>\n",
       "    </tr>\n",
       "  </tbody>\n",
       "</table>\n",
       "</div>"
      ],
      "text/plain": [
       "   age     bmi  children  smoker  region      charges  female  male\n",
       "0   19  27.900         0       1       3  16884.92400       1     0\n",
       "1   18  33.770         1       0       2   1725.55230       0     1\n",
       "2   28  33.000         3       0       2   4449.46200       0     1\n",
       "3   33  22.705         0       0       1  21984.47061       0     1\n",
       "4   32  28.880         0       0       1   3866.85520       0     1"
      ]
     },
     "execution_count": 15,
     "metadata": {},
     "output_type": "execute_result"
    }
   ],
   "source": [
    "from sklearn.preprocessing import OneHotEncoder\n",
    "\n",
    "one_hot = OneHotEncoder()\n",
    "\n",
    "one_hot.fit([[i] for i in raw_data[\"sex\"].drop_duplicates()])\n",
    "\n",
    "sex = pd.DataFrame(one_hot.transform([[i] for i in raw_data[\"sex\"]]).toarray(), columns=[\"female\", \"male\"])\n",
    "# Encode the sex column using one hot encoding\n",
    "\n",
    "sex[[\"female\"]] = sex[[\"female\"]].astype(int)\n",
    "sex[[\"male\"]] = sex[[\"male\"]].astype(int)\n",
    "\n",
    "data = raw_data.join(sex).drop([\"sex\"], 1)\n",
    "\n",
    "data.head()"
   ]
  },
  {
   "cell_type": "markdown",
   "id": "64b394a1",
   "metadata": {},
   "source": [
    "Categorical columns are turned into numeric data and a heat map can be plotted again to investigate the correlations between variables."
   ]
  },
  {
   "cell_type": "code",
   "execution_count": 16,
   "id": "253a49c9",
   "metadata": {},
   "outputs": [
    {
     "data": {
      "text/plain": [
       "<AxesSubplot:>"
      ]
     },
     "execution_count": 16,
     "metadata": {},
     "output_type": "execute_result"
    },
    {
     "data": {
      "image/png": "[encoded data removed]",
      "text/plain": [
       "<Figure size 432x288 with 2 Axes>"
      ]
     },
     "metadata": {
      "needs_background": "light"
     },
     "output_type": "display_data"
    }
   ],
   "source": [
    "sns.heatmap(data.corr(), annot=True)"
   ]
  },
  {
   "cell_type": "markdown",
   "id": "d92ee460",
   "metadata": {},
   "source": [
    "It is observed that smoking has a positive correlation with medical charges as seen earlier in other plots. There is also a perfect negative correlation between female and male since they are the products of one hot encoding and there are only two categories."
   ]
  },
  {
   "cell_type": "markdown",
   "id": "a1559013",
   "metadata": {},
   "source": [
    "## Linear model"
   ]
  },
  {
   "cell_type": "markdown",
   "id": "6212e295",
   "metadata": {},
   "source": [
    "Before the model can be trained, the dataset needs to be split into training and testing data so the model is trained and evaluated using different sets of data."
   ]
  },
  {
   "cell_type": "code",
   "execution_count": 17,
   "id": "f7ab4e61",
   "metadata": {},
   "outputs": [],
   "source": [
    "from sklearn.model_selection import train_test_split\n",
    "from sklearn.metrics import mean_absolute_percentage_error\n",
    "\n",
    "predict = \"charges\"\n",
    "\n",
    "x = data.drop([predict], 1)\n",
    "y = data[predict]\n",
    "# Select the columns corresponding to the independent and dependent variables\n",
    "\n",
    "x_train, x_test, y_train, y_test = train_test_split(x, y, test_size=0.2)\n",
    "# Split the dataset into training and test"
   ]
  },
  {
   "cell_type": "code",
   "execution_count": 18,
   "id": "e9927215",
   "metadata": {},
   "outputs": [],
   "source": [
    "performance = dict()\n",
    "# Define a performance dictionary to store and compare the performance of each model\n",
    "\n",
    "models = [\"linear\", \"ridge\", \"lasso\", \"elastic net\"]\n",
    "\n",
    "for model in models:\n",
    "    performance[model] = list()"
   ]
  },
  {
   "cell_type": "code",
   "execution_count": 19,
   "id": "86795ae9",
   "metadata": {},
   "outputs": [
    {
     "name": "stdout",
     "output_type": "stream",
     "text": [
      "Feature coefficients: \n",
      " [  256.28031665   336.00249431   509.123326   24297.32169955\n",
      "  -350.59394167    60.5104354    -60.5104354 ] \n",
      "\n",
      "Accuracy score:  0.7212108665315041 \n",
      "\n",
      "Mean absolute percentage error:  45.23206289871372 %\n"
     ]
    }
   ],
   "source": [
    "from sklearn.linear_model import LinearRegression\n",
    "\n",
    "linear = LinearRegression()\n",
    "\n",
    "linear.fit(x_train, y_train)\n",
    "\n",
    "prediction = linear.predict(x_test)\n",
    "# Define and fit a linear regression model and make prediction using the test data\n",
    "\n",
    "score = linear.score(x_test, y_test)\n",
    "error = mean_absolute_percentage_error(y_test, prediction) * 100\n",
    "# Evaluate the model score and the mean absolute percentage error between the prediction and the actual values\n",
    "\n",
    "print(\"Feature coefficients: \\n\", linear.coef_, \"\\n\")\n",
    "print(\"Accuracy score: \", score, \"\\n\")\n",
    "print(\"Mean absolute percentage error: \", error, \"%\")\n",
    "\n",
    "performance[\"linear\"].append(score)\n",
    "performance[\"linear\"].append(error)"
   ]
  },
  {
   "cell_type": "code",
   "execution_count": 20,
   "id": "4b449da0",
   "metadata": {},
   "outputs": [
    {
     "name": "stdout",
     "output_type": "stream",
     "text": [
      "Feature coefficients: \n",
      " [  129.79884819   189.61378633   246.08662762 12119.67282928\n",
      "   -73.79496399  -230.12702631   230.12702631] \n",
      "\n",
      "Accuracy score:  0.5766777620190132 \n",
      "\n",
      "Mean absolute percentage error:  90.31228119705656 %\n"
     ]
    }
   ],
   "source": [
    "from sklearn.linear_model import Ridge\n",
    "\n",
    "ridge = Ridge(alpha=1.0, normalize=True)\n",
    "\n",
    "ridge.fit(x_train, y_train)\n",
    "\n",
    "prediction = ridge.predict(x_test)\n",
    "# Define and fit a ridge regression model and make prediction using the test data\n",
    "\n",
    "score = ridge.score(x_test, y_test)\n",
    "error = mean_absolute_percentage_error(y_test, prediction) * 100\n",
    "# Evaluate the model score and the mean absolute percentage error between the prediction and the actual values\n",
    "\n",
    "print(\"Feature coefficients: \\n\", ridge.coef_, \"\\n\")\n",
    "print(\"Accuracy score: \", score, \"\\n\")\n",
    "print(\"Mean absolute percentage error: \", error, \"%\")\n",
    "\n",
    "performance[\"ridge\"].append(score)\n",
    "performance[\"ridge\"].append(error)"
   ]
  },
  {
   "cell_type": "code",
   "execution_count": 21,
   "id": "dd72bf17",
   "metadata": {},
   "outputs": [
    {
     "name": "stdout",
     "output_type": "stream",
     "text": [
      "Feature coefficients: \n",
      " [ 2.57610422e+02  3.00969147e+02  4.76646175e+02  2.20837192e+04\n",
      " -3.97915982e+02  3.10554935e+01 -2.22727858e-13] \n",
      "\n",
      "Accuracy score:  0.7314572832117956 \n",
      "\n",
      "Mean absolute percentage error:  40.585121870112246 %\n"
     ]
    }
   ],
   "source": [
    "from sklearn.linear_model import Lasso\n",
    "\n",
    "lasso = Lasso(alpha=1.0, normalize=True)\n",
    "\n",
    "lasso.fit(x_test, y_test)\n",
    "\n",
    "prediction = lasso.predict(x_test)\n",
    "# Define and fit a lasso regression model and make prediction using the test data\n",
    "\n",
    "score = lasso.score(x_test, y_test)\n",
    "error = mean_absolute_percentage_error(y_test, prediction) * 100\n",
    "# Evaluate the model score and the mean absolute percentage error between the prediction and the actual values\n",
    "\n",
    "print(\"Feature coefficients: \\n\", lasso.coef_, \"\\n\")\n",
    "print(\"Accuracy score: \", score, \"\\n\")\n",
    "print(\"Mean absolute percentage error: \", error, \"%\")\n",
    "\n",
    "performance[\"lasso\"].append(score)\n",
    "performance[\"lasso\"].append(error)"
   ]
  },
  {
   "cell_type": "code",
   "execution_count": 22,
   "id": "0d2de8b5",
   "metadata": {},
   "outputs": [
    {
     "name": "stdout",
     "output_type": "stream",
     "text": [
      "Feature coefficients: \n",
      " [ 0.49193497  0.80388173  0.87816777 45.26192585  0.13509604 -2.781545\n",
      "  2.781545  ] \n",
      "\n",
      "Accuracy score:  0.0029437428018891376 \n",
      "\n",
      "Mean absolute percentage error:  152.42835361550405 %\n"
     ]
    }
   ],
   "source": [
    "from sklearn.linear_model import ElasticNet\n",
    "\n",
    "net = ElasticNet(alpha=1.0, normalize=True)\n",
    "\n",
    "net.fit(x_train, y_train)\n",
    "\n",
    "prediction = net.predict(x_test)\n",
    "# Define and fit an elastic net model and make prediction using the test data\n",
    "\n",
    "score = net.score(x_test, y_test)\n",
    "error = mean_absolute_percentage_error(y_test, prediction) * 100\n",
    "# Evaluate the model score and the mean absolute percentage error between the prediction and the actual values\n",
    "\n",
    "print(\"Feature coefficients: \\n\", net.coef_, \"\\n\")\n",
    "print(\"Accuracy score: \", score, \"\\n\")\n",
    "print(\"Mean absolute percentage error: \", error, \"%\")\n",
    "\n",
    "performance[\"elastic net\"].append(score)\n",
    "performance[\"elastic net\"].append(error)"
   ]
  },
  {
   "cell_type": "code",
   "execution_count": 23,
   "id": "faa3aa12",
   "metadata": {},
   "outputs": [
    {
     "data": {
      "text/html": [
       "<div>\n",
       "<style scoped>\n",
       "    .dataframe tbody tr th:only-of-type {\n",
       "        vertical-align: middle;\n",
       "    }\n",
       "\n",
       "    .dataframe tbody tr th {\n",
       "        vertical-align: top;\n",
       "    }\n",
       "\n",
       "    .dataframe thead th {\n",
       "        text-align: right;\n",
       "    }\n",
       "</style>\n",
       "<table border=\"1\" class=\"dataframe\">\n",
       "  <thead>\n",
       "    <tr style=\"text-align: right;\">\n",
       "      <th></th>\n",
       "      <th>linear</th>\n",
       "      <th>ridge</th>\n",
       "      <th>lasso</th>\n",
       "      <th>elastic net</th>\n",
       "    </tr>\n",
       "  </thead>\n",
       "  <tbody>\n",
       "    <tr>\n",
       "      <th>Model score</th>\n",
       "      <td>0.721211</td>\n",
       "      <td>0.576678</td>\n",
       "      <td>0.731457</td>\n",
       "      <td>0.002944</td>\n",
       "    </tr>\n",
       "    <tr>\n",
       "      <th>Mean absolute percentage error</th>\n",
       "      <td>45.232063</td>\n",
       "      <td>90.312281</td>\n",
       "      <td>40.585122</td>\n",
       "      <td>152.428354</td>\n",
       "    </tr>\n",
       "  </tbody>\n",
       "</table>\n",
       "</div>"
      ],
      "text/plain": [
       "                                   linear      ridge      lasso  elastic net\n",
       "Model score                      0.721211   0.576678   0.731457     0.002944\n",
       "Mean absolute percentage error  45.232063  90.312281  40.585122   152.428354"
      ]
     },
     "execution_count": 23,
     "metadata": {},
     "output_type": "execute_result"
    }
   ],
   "source": [
    "pd.DataFrame(performance, index=[\"Model score\", \"Mean absolute percentage error\"])"
   ]
  },
  {
   "cell_type": "markdown",
   "id": "3891615b",
   "metadata": {},
   "source": [
    "## Regression models fine-tuning\n",
    "\n",
    "The regression models can potentially be improved by selection the alpha values that give the highest prediction accuracies. The models will be trained repeatedly with different alpha values and the best alpha value for each model will be selected and the models' performance will be re-evaluated."
   ]
  },
  {
   "cell_type": "code",
   "execution_count": 24,
   "id": "1bd4b291",
   "metadata": {},
   "outputs": [],
   "source": [
    "alphas = [round(0.1 * i, 1) for i in range(1, 41)]\n",
    "# Define the alpha values to be tested"
   ]
  },
  {
   "cell_type": "code",
   "execution_count": 25,
   "id": "0101c2ec",
   "metadata": {},
   "outputs": [],
   "source": [
    "from sklearn.model_selection import cross_val_score\n",
    "\n",
    "# Initialize models\n",
    "ridge_model = Ridge()\n",
    "lasso_model = Lasso()\n",
    "elastic_net_model = ElasticNet()\n",
    "\n",
    "# Perform cross-validation for different alpha values\n",
    "ridge_scores = [cross_val_score(ridge_model.set_params(alpha=alpha), x_train, y_train, cv=5, scoring='neg_mean_squared_error').mean() for alpha in alphas]\n",
    "lasso_scores = [cross_val_score(lasso_model.set_params(alpha=alpha), x_train, y_train, cv=5, scoring='neg_mean_squared_error').mean() for alpha in alphas]\n",
    "elastic_net_scores = [cross_val_score(elastic_net_model.set_params(alpha=alpha), x_train, y_train, cv=5, scoring='neg_mean_squared_error').mean() for alpha in alphas]"
   ]
  },
  {
   "cell_type": "code",
   "execution_count": 26,
   "id": "9cdb907b",
   "metadata": {},
   "outputs": [
    {
     "name": "stdout",
     "output_type": "stream",
     "text": [
      "Ridge:  1.1 \n",
      "Lasso:  4.0 \n",
      "Elastic net:  0.1\n"
     ]
    }
   ],
   "source": [
    "best_ridge_alpha = alphas[np.argmax(ridge_scores)]\n",
    "best_lasso_alpha = alphas[np.argmax(lasso_scores)]\n",
    "best_elastic_net_alpha = alphas[np.argmax(elastic_net_scores)]\n",
    "\n",
    "print(\"Ridge: \", best_ridge_alpha, \"\\nLasso: \", best_lasso_alpha, \"\\nElastic net: \", best_elastic_net_alpha)"
   ]
  },
  {
   "cell_type": "code",
   "execution_count": 27,
   "id": "1d8d4767",
   "metadata": {
    "scrolled": true
   },
   "outputs": [
    {
     "name": "stdout",
     "output_type": "stream",
     "text": [
      "Feature coefficients: \n",
      " [  123.71352052   181.66995754   234.08623136 11542.27606435\n",
      "   -65.32035999  -235.34720518   235.34720518] \n",
      "\n",
      "Accuracy score:  0.5591216700748238 \n",
      "\n",
      "Mean absolute percentage error:  93.03961161141551 %\n"
     ]
    }
   ],
   "source": [
    "ridge = Ridge(alpha=best_ridge_alpha, normalize=True)\n",
    "\n",
    "ridge.fit(x_train, y_train)\n",
    "\n",
    "prediction = ridge.predict(x_test)\n",
    "\n",
    "score = ridge.score(x_test, y_test)\n",
    "error = mean_absolute_percentage_error(y_test, prediction) * 100\n",
    "# Evaluate the model score and the mean absolute percentage error between the prediction and the actual values\n",
    "\n",
    "print(\"Feature coefficients: \\n\", ridge.coef_, \"\\n\")\n",
    "print(\"Accuracy score: \", score, \"\\n\")\n",
    "print(\"Mean absolute percentage error: \", error, \"%\")\n",
    "\n",
    "performance[\"ridge\"] = [score, error]"
   ]
  },
  {
   "cell_type": "code",
   "execution_count": 28,
   "id": "b44bdb2b",
   "metadata": {},
   "outputs": [
    {
     "name": "stdout",
     "output_type": "stream",
     "text": [
      "Feature coefficients: \n",
      " [  254.95828925   290.94225826   434.94564887 21967.11287189\n",
      "  -344.83311825     0.            -0.        ] \n",
      "\n",
      "Accuracy score:  0.7312928453853647 \n",
      "\n",
      "Mean absolute percentage error:  40.29331253954761 %\n"
     ]
    }
   ],
   "source": [
    "lasso = Lasso(alpha=best_lasso_alpha, normalize=True)\n",
    "\n",
    "lasso.fit(x_test, y_test)\n",
    "\n",
    "prediction = lasso.predict(x_test)\n",
    "\n",
    "score = lasso.score(x_test, y_test)\n",
    "error = mean_absolute_percentage_error(y_test, prediction) * 100\n",
    "# Evaluate the model score and the mean absolute percentage error between the prediction and the actual values\n",
    "\n",
    "print(\"Feature coefficients: \\n\", lasso.coef_, \"\\n\")\n",
    "print(\"Accuracy score: \", score, \"\\n\")\n",
    "print(\"Mean absolute percentage error: \", error, \"%\")\n",
    "\n",
    "performance[\"lasso\"] = [score, error]"
   ]
  },
  {
   "cell_type": "code",
   "execution_count": 29,
   "id": "eb912274",
   "metadata": {},
   "outputs": [
    {
     "name": "stdout",
     "output_type": "stream",
     "text": [
      "Feature coefficients: \n",
      " [  4.85347535   7.91223632   8.86532076 445.72011519   1.42158061\n",
      " -26.93316733  26.9331673 ] \n",
      "\n",
      "Accuracy score:  0.029120629441138468 \n",
      "\n",
      "Mean absolute percentage error:  150.31472762622883 %\n"
     ]
    }
   ],
   "source": [
    "net = ElasticNet(alpha=best_elastic_net_alpha, normalize=True)\n",
    "\n",
    "net.fit(x_train, y_train)\n",
    "\n",
    "prediction = net.predict(x_test)\n",
    "\n",
    "score = net.score(x_test, y_test)\n",
    "error = mean_absolute_percentage_error(y_test, prediction) * 100\n",
    "# Evaluate the model score and the mean absolute percentage error between the prediction and the actual values\n",
    "\n",
    "print(\"Feature coefficients: \\n\", net.coef_, \"\\n\")\n",
    "print(\"Accuracy score: \", score, \"\\n\")\n",
    "print(\"Mean absolute percentage error: \", error, \"%\")\n",
    "\n",
    "performance[\"elastic net\"] = [score, error]"
   ]
  },
  {
   "cell_type": "markdown",
   "id": "8d734dad",
   "metadata": {},
   "source": [
    "It can be observed that by selecting the best-performing alpha value, the models were able to perform slightly better in terms of accuracy score and mean absolute percentage error."
   ]
  },
  {
   "cell_type": "code",
   "execution_count": 30,
   "id": "63d07603",
   "metadata": {},
   "outputs": [
    {
     "data": {
      "text/html": [
       "<div>\n",
       "<style scoped>\n",
       "    .dataframe tbody tr th:only-of-type {\n",
       "        vertical-align: middle;\n",
       "    }\n",
       "\n",
       "    .dataframe tbody tr th {\n",
       "        vertical-align: top;\n",
       "    }\n",
       "\n",
       "    .dataframe thead th {\n",
       "        text-align: right;\n",
       "    }\n",
       "</style>\n",
       "<table border=\"1\" class=\"dataframe\">\n",
       "  <thead>\n",
       "    <tr style=\"text-align: right;\">\n",
       "      <th></th>\n",
       "      <th>linear</th>\n",
       "      <th>ridge</th>\n",
       "      <th>lasso</th>\n",
       "      <th>elastic net</th>\n",
       "    </tr>\n",
       "  </thead>\n",
       "  <tbody>\n",
       "    <tr>\n",
       "      <th>Model score</th>\n",
       "      <td>0.721211</td>\n",
       "      <td>0.559122</td>\n",
       "      <td>0.731293</td>\n",
       "      <td>0.029121</td>\n",
       "    </tr>\n",
       "    <tr>\n",
       "      <th>Mean absolute percentage error</th>\n",
       "      <td>45.232063</td>\n",
       "      <td>93.039612</td>\n",
       "      <td>40.293313</td>\n",
       "      <td>150.314728</td>\n",
       "    </tr>\n",
       "  </tbody>\n",
       "</table>\n",
       "</div>"
      ],
      "text/plain": [
       "                                   linear      ridge      lasso  elastic net\n",
       "Model score                      0.721211   0.559122   0.731293     0.029121\n",
       "Mean absolute percentage error  45.232063  93.039612  40.293313   150.314728"
      ]
     },
     "execution_count": 30,
     "metadata": {},
     "output_type": "execute_result"
    }
   ],
   "source": [
    "pd.DataFrame(performance, index=[\"Model score\", \"Mean absolute percentage error\"])"
   ]
  },
  {
   "cell_type": "markdown",
   "id": "dbab55b9",
   "metadata": {},
   "source": [
    "## Conclusion"
   ]
  },
  {
   "cell_type": "code",
   "execution_count": 31,
   "id": "8edf2dcc",
   "metadata": {},
   "outputs": [
    {
     "name": "stdout",
     "output_type": "stream",
     "text": [
      "The highest-scoring model is: lasso , with a score of:  0.731\n"
     ]
    }
   ],
   "source": [
    "print(\"The highest-scoring model is:\", models[np.argmax(list(pd.DataFrame(performance).loc[0]))], \", with a score of: \", round(pd.DataFrame(performance).loc[0].max(), 3))"
   ]
  },
  {
   "cell_type": "code",
   "execution_count": 32,
   "id": "a95715c3",
   "metadata": {},
   "outputs": [
    {
     "name": "stdout",
     "output_type": "stream",
     "text": [
      "Feature coefficients: \n",
      "\n",
      "age :  254.95828925454555\n",
      "bmi :  290.94225825966697\n",
      "children :  434.94564886716313\n",
      "smoker :  21967.112871891255\n",
      "region :  -344.8331182466138\n",
      "female :  0.0\n",
      "male :  -0.0\n"
     ]
    }
   ],
   "source": [
    "print(\"Feature coefficients: \\n\")\n",
    "\n",
    "for i in range(len(x.columns)):\n",
    "    print(x.columns[i], \": \", lasso.coef_[i])"
   ]
  },
  {
   "cell_type": "markdown",
   "id": "e2a48b13",
   "metadata": {},
   "source": [
    "Lasso regression had the highest score amongst the selected models and it can be seen from the coefficients that _smoker_ had the greatest impact on the model's prediction, in agreement with the results from correlation analysis."
   ]
  },
  {
   "cell_type": "code",
   "execution_count": null,
   "id": "e74f8a62",
   "metadata": {},
   "outputs": [],
   "source": []
  }
 ],
 "metadata": {
  "kernelspec": {
   "display_name": "Python 3 (ipykernel)",
   "language": "python",
   "name": "python3"
  },
  "language_info": {
   "codemirror_mode": {
    "name": "ipython",
    "version": 3
   },
   "file_extension": ".py",
   "mimetype": "text/x-python",
   "name": "python",
   "nbconvert_exporter": "python",
   "pygments_lexer": "ipython3",
   "version": "3.9.12"
  }
 },
 "nbformat": 4,
 "nbformat_minor": 5
}
